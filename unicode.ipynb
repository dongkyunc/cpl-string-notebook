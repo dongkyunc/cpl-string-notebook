{
 "cells": [
  {
   "attachments": {},
   "cell_type": "markdown",
   "metadata": {},
   "source": [
    "# Python and Unicode\n",
    "\n",
    "A quick recap of vocabulary:\n",
    "- Unicode: A universal mapping between characters and numerical values (usually in hexadecimal). \n",
    "- UTF-8: A variable-length encoding implementation, and most commonly used today\n",
    "- Code unit: The basic component used by an encoding system. UTF-8 code units are byte-sized.\n",
    "- Code point: The number (usually in hexadecimal) a character is assigned in Unicode. Often prepended with `U+`. UTF-8 encodes code points with one to four code units. \n",
    "- Grapheme cluster: What we think of as a single \"character\" or unit on the screen. It can be composed of multiple code points (more on that below).\n",
    "- Encoding: the process of assigning numbers to characters\n",
    "- Decoding: finding a character given a numerical value\n",
    "\n",
    "You'll note that \"character\" can be a bit ambiguous in its definition (is it a code point or grapheme cluster), so we'll try and stick with the more precise terms when necessary."
   ]
  },
  {
   "attachments": {},
   "cell_type": "markdown",
   "metadata": {},
   "source": [
    "#### A small encoding example\n",
    "\n",
    "In order to encode a character in UTF-8, we first need to find the character's code point and then encode it according to the table below:\n",
    "\n",
    "| First code point | Last code point | Byte 1 | Byte 2 | Byte 3 | Byte 4 | Code points | \n",
    "| --------: | ---------: | ---------- | :--------: | :--------: | :--------: | ------: | \n",
    "| `U+0000`  | `U+007F`   | `0xxxxxxx` | `NULL`     | `NULL`     | `NULL    ` |     128 |\n",
    "| `U+0080`  | `U+07FF`   | `110xxxxx` | `10xxxxxx` | `NULL`     | `NULL    ` |    1920 |\n",
    "| `U+0800`  | `U+FFFF`   | `1110xxxx` | `10xxxxxx` | `10xxxxxx` | `NULL    ` |   61440 | \n",
    "| `U+10000` | `U+10FFFF` | `11110xxx` | `10xxxxxx` | `10xxxxxx` | `10xxxxxx` | 1048576 |\n",
    "\n",
    "For example, the 🌵 emoji has code point `U+1F335`. \n",
    "1. That range falls into the fourth row, so we know our emoji needs four bytes.\n",
    "2. We convert `1F335` to binary form: `0001_1111_0011_0011_0101`. \n",
    "3. We split in into chunks of 3, 6, 6, and 6 (the number of `x`'s in each byte), dropping the leading zeroes: `000`, `011111`, `001100`, `110101`.\n",
    "4. We fill in the `x`'s to get our code units / bytes: `1111000 10011111 10001100 10110101`.\n",
    "5. Convert back to hexadecimal, since bytes are usually referred to in hex: `f0 9f 8c b5`.\n",
    "\n",
    "We can confirm our work by decoding the bytes into UTF-8:"
   ]
  },
  {
   "cell_type": "code",
   "execution_count": null,
   "metadata": {},
   "outputs": [],
   "source": [
    "bytes.fromhex('f0 9f 8c b5').decode('utf-8')"
   ]
  },
  {
   "attachments": {},
   "cell_type": "markdown",
   "metadata": {},
   "source": [
    "## Python and Unicode\n",
    "\n",
    "First, we need some function to help us navigate our way around. Feel free to just execute the cell without reading it, there's some low-level [bit twiddling](https://en.wikipedia.org/wiki/Bit_manipulation#Terminology) that isn't of much importance. If you're curious about what these functions do in greater detail, the appendix at the bottom will explain."
   ]
  },
  {
   "cell_type": "code",
   "execution_count": null,
   "metadata": {},
   "outputs": [],
   "source": [
    "import unicodedata\n",
    "\n",
    "def print_bytes(s):\n",
    "    \"\"\"Prints the underlying UTF-8 encoding in both hex and binary\n",
    "    \"\"\"\n",
    "    bs = bytearray(s, 'utf-8')\n",
    "    for i, b in enumerate(bs): \n",
    "        print(f'Byte {i+1:02}:\\tHex: {b:02x}; Binary: {b:08b}')\n",
    "\n",
    "def split_units_by_points(bs):\n",
    "    \"\"\"Takes in a string or bytearray of UTF-8 code units and \n",
    "    attempts to return a list of bytearrays corresponding to code points.\"\"\"\n",
    "    if isinstance(bs, str):\n",
    "        bs = bytearray(bs, 'utf-8')\n",
    "    code_points = []\n",
    "\n",
    "    i = 0\n",
    "    while i < len(bs):\n",
    "        b = bs[i]\n",
    "        if b >> 7 == 0b0:\n",
    "            code_points.append(bs[i:i+1])\n",
    "            i += 1\n",
    "        elif b >> 5 == 0b110:     # length 2\n",
    "            code_points.append(bs[i:i+2])\n",
    "            i += 2\n",
    "        elif b >> 4 == 0b1110:    # length 3\n",
    "            code_points.append(bs[i:i+3])\n",
    "            i += 3\n",
    "        elif b >> 3 == 0b11110:   # length 4\n",
    "            code_points.append(bs[i:i+4])\n",
    "            i += 4\n",
    "    return code_points\n",
    "\n",
    "def codepoints(bs):\n",
    "    \"\"\"Takes in a string or bytearray of UTF-8 code units and \n",
    "    attempts to return the corresponding Unicode code points.\n",
    "\n",
    "    This is the same as map(ord, s), mostly here for educational purposes\n",
    "    \n",
    "    \"\"\"\n",
    "    code_points = []\n",
    "    chunked_bs = split_units_by_points(bs)\n",
    "    for bs in chunked_bs:\n",
    "        if len(bs) == 1:\n",
    "            code_points.append(bs[0])\n",
    "        elif len(bs) == 2:\n",
    "            code_points.append(((0b00011111 & bs[0]) << 6) + \\\n",
    "                                (0b00111111 & bs[1]))\n",
    "        elif len(bs) == 3:\n",
    "            code_points.append(((0b00001111 & bs[0]) << 12) + \\\n",
    "                               ((0b00111111 & bs[1]) << 6) + \\\n",
    "                                (0b00111111 & bs[2]))\n",
    "        elif len(bs) == 4:\n",
    "            code_points.append(((0b00000111 & bs[0]) << 18) + \\\n",
    "                               ((0b00111111 & bs[1]) << 12) + \\\n",
    "                               ((0b00111111 & bs[2]) << 6) + \\\n",
    "                                (0b00111111 & bs[3]))\n",
    "        else:\n",
    "            raise UnicodeDecodeError()\n",
    "    return code_points\n",
    "\n",
    "def codepoints_hex(s):\n",
    "    return list(map(hex, map(ord, s)))"
   ]
  },
  {
   "attachments": {},
   "cell_type": "markdown",
   "metadata": {},
   "source": [
    "Python, like most modern applications, defaults to Unicode. As a fun side effect, this means that your variable names can be non-English, e.g."
   ]
  },
  {
   "cell_type": "code",
   "execution_count": null,
   "metadata": {},
   "outputs": [],
   "source": [
    "다섯 = 5\n",
    "五 = 5\n",
    "ᎯᏍᎩ = 5\n",
    "አምስት = 5\n",
    "\n",
    "다섯 + 五 + ᎯᏍᎩ + አምስት"
   ]
  },
  {
   "attachments": {},
   "cell_type": "markdown",
   "metadata": {},
   "source": [
    "The full list of valid code points can be found [here](https://www.unicode.org/Public/14.0.0/ucd/DerivedCoreProperties.txt). In string literals, you can refer to any character by its Unicode escape sequence (name or code point) as well:"
   ]
  },
  {
   "cell_type": "code",
   "execution_count": null,
   "metadata": {},
   "outputs": [],
   "source": [
    "cow = '🐮'\n",
    "cat = '\\N{WEARY CAT FACE}'\n",
    "rabbit = '\\u5154'\n",
    "dog = '\\U0001F436'  # emojis neeed a capital U long-form escape sequence since they're more than 16 bits\n",
    "print(cow, cat, rabbit, dog)"
   ]
  },
  {
   "attachments": {},
   "cell_type": "markdown",
   "metadata": {},
   "source": [
    "## Potential issues\n",
    "\n",
    "Thankfully, the world has more or less settled on UTF-8 being the standard character encoding. However, it doesn't have 100% adoption (yet) and the encoding can get fairly complicated, both issues leading to some problems. A few of the more common ones mentioned below:\n",
    "\n",
    "### 1. Unexpected encodings\n",
    "\n",
    "This is probably the most common issue you'll run into.\n",
    "\n",
    "Unfortunately, many (especially older) text datasets still use non-UTF-8 encodings. For example, the [Supreme Court Database](http://scdb.wustl.edu/) uses ISO 8859-1. This is the most common issue you will run into. Libraries such as `pandas` will default to UTF-8, and will likely complain when running into invalid code sequences. Hopefully, the dataset's documentation will provide guidance on which encoding to specify if this is the case. If not, finding the correct one requires a bit of trial and error. \n",
    "\n",
    "### 2. `len()` may produce unexpected result\n",
    "\n",
    "Before you run the following cell, try and predict what the result should be.\n"
   ]
  },
  {
   "cell_type": "code",
   "execution_count": null,
   "metadata": {},
   "outputs": [],
   "source": [
    "emoji = '🤦🏼‍♂️'\n",
    "len(emoji)"
   ]
  },
  {
   "attachments": {},
   "cell_type": "markdown",
   "metadata": {},
   "source": [
    "In order to figure out why this is the case, looking at the internal representation may help:"
   ]
  },
  {
   "cell_type": "code",
   "execution_count": null,
   "metadata": {},
   "outputs": [],
   "source": [
    "codepoints_hex(emoji)"
   ]
  },
  {
   "attachments": {},
   "cell_type": "markdown",
   "metadata": {},
   "source": [
    "So we have five code points, which is where `len` is getting its result from. If you are curious, the five code points are:\n",
    "- U+1F926 FACE PALM: The default face palm emoji 🤦.\n",
    "- U+1F3FC EMOJI MODIFIER FITZPATRICK TYPE-3: The [Fitzpatrick scale](https://en.wikipedia.org/wiki/Fitzpatrick_scale) is a skin color classification system\n",
    "- U+200D ZERO WIDTH JOINER: The [ZWJ](https://en.wikipedia.org/wiki/Zero-width_joiner) is a control character \n",
    "                            telling the computer to join the code points preceding and following\n",
    "- U+2642 MALE SIGN: The ♂ emoji. Using the ZWJ, this indicates that the face palm emoji is male.\n",
    "- U+FE0F VARIATION SELECTOR-16: This is another control character, telling the computer that the emoji is to be in color, rather than monochrome.\n"
   ]
  },
  {
   "attachments": {},
   "cell_type": "markdown",
   "metadata": {},
   "source": [
    "\n",
    "### 3. Graphemes have multiple possible representations\n",
    "\n",
    "Due to historical reasons, Unicode has multiple ways to represent the same grapheme, for example, on almost all systems:\n",
    "\n",
    "```\n",
    "U+0041 ( A ) LATIN CAPITAL LETTER A\n",
    "U+0300 ( ̀ ) COMBINING GRAVE ACCENT\n",
    "```\n",
    "\n",
    "will look exactly the same as \n",
    "\n",
    "```\n",
    "U+00C0 ( À ) LATIN CAPITAL LETTER A WITH GRAVE\n",
    "```\n",
    "\n",
    "This usually is not an issue, since a vast majority of text data is in the composed form (the latter), but problems can still arise. For example, older Macs will actually save filenames in their decomposed form.\n"
   ]
  },
  {
   "attachments": {},
   "cell_type": "markdown",
   "metadata": {},
   "source": [
    "### 3.1. Sorting strings may produce unexpected results\n",
    "\n",
    "[Taken from [Eevee's blog](https://eev.ee/blog/2015/09/12/dark-corners-of-unicode/#everything-you-know-about-text-is-wrong)]\n",
    "\n",
    "What do you think the following should evaluate as?\n"
   ]
  },
  {
   "cell_type": "code",
   "execution_count": null,
   "metadata": {},
   "outputs": [],
   "source": [
    "words = ['cafeteria', 'caffeine', 'café']\n",
    "words.sort()\n",
    "words"
   ]
  },
  {
   "attachments": {},
   "cell_type": "markdown",
   "metadata": {},
   "source": [
    "Python sorts by Unicode code point, so \"é\" (U+00E9) is greater than the English letter \"f\" (U+0066).\n",
    "\n",
    "\n",
    "### 3.2. Strings that look exactly the same can have different underlying values\n",
    "\n",
    "What do you expect the following line to evaluate as?"
   ]
  },
  {
   "cell_type": "code",
   "execution_count": null,
   "metadata": {},
   "outputs": [],
   "source": [
    "e1, e2 = 'è', 'è'\n",
    "e1 == e2"
   ]
  },
  {
   "attachments": {},
   "cell_type": "markdown",
   "metadata": {},
   "source": [
    "Can you guess why this might be the case? \n",
    "\n",
    "Looking at the internal byte representation may help:"
   ]
  },
  {
   "cell_type": "code",
   "execution_count": null,
   "metadata": {},
   "outputs": [],
   "source": [
    "print_bytes(e1)\n",
    "print('Code point(s):', [hex(b) for b in codepoints(e1)])\n",
    "print([unicodedata.name(c) for c in e1])\n",
    "\n",
    "print('\\n---\\n')\n",
    "\n",
    "print_bytes(e2)\n",
    "print('Code point(s):', [hex(b) for b in codepoints(e2)])\n",
    "print([unicodedata.name(c) for c in e2])"
   ]
  },
  {
   "attachments": {},
   "cell_type": "markdown",
   "metadata": {},
   "source": [
    "You can handle this by having Python choose a canonical representation for two similar characters, known as _normalization_, with `unicodedata.normalize`"
   ]
  },
  {
   "cell_type": "code",
   "execution_count": null,
   "metadata": {},
   "outputs": [],
   "source": [
    "unicodedata.normalize('NFC', 'è') == unicodedata.normalize('NFC','è')"
   ]
  },
  {
   "attachments": {},
   "cell_type": "markdown",
   "metadata": {},
   "source": [
    "# Appendix: Code explainer"
   ]
  },
  {
   "attachments": {},
   "cell_type": "markdown",
   "metadata": {},
   "source": [
    "This assumes some knowledge of loops and lists, but otherwise, I've tried to make it as accessible as possible. As always, feel free to ask questions on the Ed board, office hours, or in email."
   ]
  },
  {
   "cell_type": "code",
   "execution_count": null,
   "metadata": {},
   "outputs": [],
   "source": [
    "import unicodedata"
   ]
  },
  {
   "attachments": {},
   "cell_type": "markdown",
   "metadata": {},
   "source": [
    "[`unicodedata`](https://docs.python.org/3/library/unicodedata.html) is a library with some handy Unicode-related functions"
   ]
  },
  {
   "cell_type": "code",
   "execution_count": null,
   "metadata": {},
   "outputs": [],
   "source": [
    "def print_bytes(s):\n",
    "    \"\"\"Prints the underlying UTF-8 encoding in both hex and binary\n",
    "    \"\"\"\n",
    "    bs = bytearray(s, 'utf-8')\n",
    "    for i, b in enumerate(bs): \n",
    "        print(f'Byte {i+1:02}:\\tHex: {b:02x}; Binary: {b:08b}')"
   ]
  },
  {
   "attachments": {},
   "cell_type": "markdown",
   "metadata": {},
   "source": [
    "The line \n",
    "```python\n",
    "bs = bytearray(s, 'utf-8')\n",
    "```\n",
    "gets the UTF-8 encoding of the string `s` and stores it in the variable `bs`.\n",
    "\n",
    "We then iterate through the bytes ([`enumerate()`](https://docs.python.org/3/library/functions.html#enumerate) keeps track of how many iterations have occurred), and print out a line using a [formatted string literals](https://docs.python.org/3/tutorial/inputoutput.html#formatted-string-literals).\n",
    "\n",
    "Anything in the curly braces `{...}` is evaluated as an expression, rather than treated as a string. Using `{b:02x}` as an example:\n",
    "1. We split the expression on the colon (`:`) and have `b` on the left and `02x` on the right.\n",
    "2. `b` is referring to whichever byte value in `bs` we're dealing with in that specific loop iteration.\n",
    "3. `x` means we want to print the number in hexadecimal, rather than decimal\n",
    "4. `02` means that we want the length of the string to be at least 2, padding with 0 as necessary. e.g., `'a'` would be turned into `'0a'`."
   ]
  },
  {
   "cell_type": "code",
   "execution_count": null,
   "metadata": {},
   "outputs": [],
   "source": [
    "def split_units_by_points(bs):\n",
    "    \"\"\"Takes in a string or bytearray of UTF-8 code units and \n",
    "    attempts to return a list of bytearrays corresponding to code points.\"\"\"\n",
    "    if isinstance(bs, str):\n",
    "        bs = bytearray(bs, 'utf-8')\n",
    "    code_points = []\n",
    "\n",
    "    i = 0\n",
    "    while i < len(bs):\n",
    "        b = bs[i]\n",
    "        if b >> 7 == 0b0:\n",
    "            code_points.append(bs[i:i+1])\n",
    "            i += 1\n",
    "        elif b >> 5 == 0b110:     # length 2\n",
    "            code_points.append(bs[i:i+2])\n",
    "            i += 2\n",
    "        elif b >> 4 == 0b1110:    # length 3\n",
    "            code_points.append(bs[i:i+3])\n",
    "            i += 3\n",
    "        elif b >> 3 == 0b11110:   # length 4\n",
    "            code_points.append(bs[i:i+4])\n",
    "            i += 4\n",
    "    return code_points"
   ]
  },
  {
   "attachments": {},
   "cell_type": "markdown",
   "metadata": {},
   "source": [
    "The first few bits in a code unit let us know if\n",
    "- how many bytes are used in encoding the code point\n",
    "- if the byte is a continution byte or a initial byte\n",
    "\n",
    "Recall the table\n",
    "\n",
    "| First code point | Last code point | Byte 1 | Byte 2 | Byte 3 | Byte 4 | Code points | \n",
    "| --------: | ---------: | ---------- | :--------: | :--------: | :--------: | ------: | \n",
    "| `U+0000`  | `U+007F`   | `0xxxxxxx` | `NULL`     | `NULL`     | `NULL    ` |     128 |\n",
    "| `U+0080`  | `U+07FF`   | `110xxxxx` | `10xxxxxx` | `NULL`     | `NULL    ` |    1920 |\n",
    "| `U+0800`  | `U+FFFF`   | `1110xxxx` | `10xxxxxx` | `10xxxxxx` | `NULL    ` |   61440 | \n",
    "| `U+10000` | `U+10FFFF` | `11110xxx` | `10xxxxxx` | `10xxxxxx` | `10xxxxxx` | 1048576 |\n",
    "\n",
    "Reading this, we know if a byte starts with `0`, `110`, `1110`, `11110`, we expect the next 1-4 bytes to encode a single code point, respectively. In order to get the first 1-5 bits of a byte, a bit-shift operator (`>>`) is used. `b >> n` is the same as `b // 2 ** n`, or just removing the `n`-rightmost digits from `b` in binary (If you are curious as to why that is identical, consider what `d // 10^a` looks like in decimal)."
   ]
  },
  {
   "cell_type": "code",
   "execution_count": null,
   "metadata": {},
   "outputs": [],
   "source": [
    "def codepoints(bs):\n",
    "    \"\"\"Takes in a string or bytearray of UTF-8 code units and \n",
    "    attempts to return the corresponding Unicode code points.\n",
    "\n",
    "    This is the same as map(ord, s), mostly here for educational purposes\n",
    "    \n",
    "    \"\"\"\n",
    "    code_points = []\n",
    "    chunked_bs = split_units_by_points(bs)\n",
    "    for bs in chunked_bs:\n",
    "        if len(bs) == 1:\n",
    "            code_points.append(bs[0])\n",
    "        elif len(bs) == 2:\n",
    "            code_points.append(((0b00011111 & bs[0]) << 6) + \\\n",
    "                                (0b00111111 & bs[1]))\n",
    "        elif len(bs) == 3:\n",
    "            code_points.append(((0b00001111 & bs[0]) << 12) + \\\n",
    "                               ((0b00111111 & bs[1]) << 6) + \\\n",
    "                                (0b00111111 & bs[2]))\n",
    "        elif len(bs) == 4:\n",
    "            code_points.append(((0b00000111 & bs[0]) << 18) + \\\n",
    "                               ((0b00111111 & bs[1]) << 12) + \\\n",
    "                               ((0b00111111 & bs[2]) << 6) + \\\n",
    "                                (0b00111111 & bs[3]))\n",
    "        else:\n",
    "            raise UnicodeDecodeError()\n",
    "    return code_points"
   ]
  },
  {
   "attachments": {},
   "cell_type": "markdown",
   "metadata": {},
   "source": [
    "More bit twiddling, this time, getting rid of the header bits and combining the bits together. \n",
    "\n",
    "The magic numbers on the left-side of `&` are commonly called bit-masks. Recall propositional logic for \"and\" (`&`):\n",
    "\n",
    "|`&`|T|F|\n",
    "|---|-|-|\n",
    "|T|T|F|\n",
    "|F|F|F|\n",
    "\n",
    "Thus, the expression `0b00000111 & x` gets the last three bits of `x` and _masks over_ all the other values with `0`. \n",
    "\n",
    "The leading zeroes are not necessary and the following are equivalent:\n",
    "\n",
    "```python\n",
    "0b00000111x & x == 0b111 & x == 0x3 & x == 10 & x\n",
    "```\n",
    "\n",
    "However, in the above case, we know that we're dealing with bytes, 8-bit values, so it helps to be explicit about which bits we are masking."
   ]
  },
  {
   "cell_type": "code",
   "execution_count": null,
   "metadata": {},
   "outputs": [],
   "source": [
    "def codepoints_hex(s):\n",
    "    return list(map(hex, map(ord, s)))"
   ]
  },
  {
   "attachments": {},
   "cell_type": "markdown",
   "metadata": {},
   "source": [
    "Expanding it for clarity:\n",
    "\n",
    "```python\n",
    "list(\n",
    "    map(hex,\n",
    "        map(\n",
    "            ord,\n",
    "            s\n",
    "        )\n",
    "    )\n",
    ")\n",
    "```\n",
    "\n",
    "`map(f, iter)` is a function which takes an iterable (something that you can iterate through, e.g., you can interate through a string's individual characters) and applies the function `f` on the inner element.\n",
    "\n",
    "First, we take the string `s` and encode each code point into its Unicode numerical value via `ord()`. We then turn that integer in a string of its hexadecimal representation with `hex()`. Lastly, we turn it from a `map` object into a `list`, which is a bit easier to work with."
   ]
  }
 ],
 "metadata": {
  "kernelspec": {
   "display_name": "Python 3",
   "language": "python",
   "name": "python3"
  },
  "language_info": {
   "codemirror_mode": {
    "name": "ipython",
    "version": 3
   },
   "file_extension": ".py",
   "mimetype": "text/x-python",
   "name": "python",
   "nbconvert_exporter": "python",
   "pygments_lexer": "ipython3",
   "version": "3.10.9 (main, Dec 15 2022, 18:20:40) [Clang 13.0.0 (clang-1300.0.29.30)]"
  },
  "orig_nbformat": 4,
  "vscode": {
   "interpreter": {
    "hash": "949777d72b0d2535278d3dc13498b2535136f6dfe0678499012e853ee9abcab1"
   }
  }
 },
 "nbformat": 4,
 "nbformat_minor": 2
}
